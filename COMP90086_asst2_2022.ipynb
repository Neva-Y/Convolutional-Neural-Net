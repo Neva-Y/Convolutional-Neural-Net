{
 "cells": [
  {
   "cell_type": "markdown",
   "id": "000e5c84",
   "metadata": {},
   "source": [
    "## The University of Melbourne, School of Computing and Information Systems\n",
    "# COMP90086 Computer Vision, 2022 Semester 2\n",
    "\n",
    "## Assignment 2"
   ]
  },
  {
   "cell_type": "markdown",
   "id": "69bc7c50",
   "metadata": {},
   "source": [
    "**Student Name:**    `PLEASE ENTER YOUR NAME HERE`\n",
    "\n",
    "**Student ID:**     `PLEASE ENTER YOUR ID HERE`"
   ]
  },
  {
   "cell_type": "markdown",
   "id": "7beaa2a3",
   "metadata": {},
   "source": [
    "## This iPython notebook is a template which you should use for your Assignment 2 submission. This file should be submitted at the **Assignment 2: Code** link on the LMS.\n",
    "\n",
    "In addition to this file, you should submit a written report explaining your results at the **Assignment 2: Report** link on the LMS. Please see the assignment specification for details on what must be included in the report for each question.\n",
    "\n",
    "*Adding proper comments to your code is MANDATORY.*"
   ]
  },
  {
   "cell_type": "markdown",
   "id": "2d228902",
   "metadata": {},
   "source": [
    "### 1. CNN implementation\n",
    "\n",
    "In this problem, you will implement a CNN to classify the yoga32 dataset. The following code section will load the dataset from a folder that you specify. You may change the batch sizes and validation percentage if you wish, but otherwise it is recommended that you do not modify this section."
   ]
  },
  {
   "cell_type": "code",
   "execution_count": 1,
   "id": "8e459aef",
   "metadata": {
    "scrolled": true
   },
   "outputs": [
    {
     "name": "stdout",
     "output_type": "stream",
     "text": [
      "Found 520 files belonging to 10 classes.\n",
      "Using 416 files for training.\n",
      "Found 520 files belonging to 10 classes.\n",
      "Using 104 files for validation.\n",
      "['bridge', 'childs', 'downwarddog', 'mountain', 'plank', 'seatedforwardbend', 'tree', 'trianglepose', 'warrior1', 'warrior2']\n"
     ]
    }
   ],
   "source": [
    "import tensorflow as tf\n",
    "from tensorflow import keras\n",
    "from tensorflow.keras import layers\n",
    "from tensorflow.keras.models import Model\n",
    "from tensorflow.keras.preprocessing import image\n",
    "import numpy as np\n",
    "import matplotlib.pyplot as plt\n",
    "import matplotlib.cm as cm\n",
    "import math\n",
    "import secrets\n",
    "\n",
    "data_dir = \"./yoga32\"\n",
    "train_batch_size = 32\n",
    "rand_seed = secrets.randbelow(1_000_000_000) # random seed for train/val split\n",
    "# note that same seed must be used for both to ensure no overlap in train/val data\n",
    "\n",
    "# Get training images from 'train' directory\n",
    "train_data = tf.keras.utils.image_dataset_from_directory(\n",
    "    data_dir+'/train',\n",
    "    validation_split=0.2,\n",
    "    subset=\"training\",\n",
    "    seed=rand_seed,\n",
    "    image_size=(32, 32),\n",
    "    batch_size=train_batch_size)\n",
    "\n",
    "# Get validation images from 'train' directory\n",
    "val_data = tf.keras.utils.image_dataset_from_directory(\n",
    "    data_dir+'/train',\n",
    "    validation_split=0.2,\n",
    "    subset=\"validation\",\n",
    "    seed=rand_seed,\n",
    "    image_size=(32, 32),\n",
    "    batch_size=train_batch_size)\n",
    "\n",
    "# Output list of class names\n",
    "class_names = train_data.class_names\n",
    "print(class_names)\n",
    "\n",
    "# Note: To train a model with the dataset loaded above, pass the train and val\n",
    "# datasets to the fit() function, like so:\n",
    "# myCNNmodel.fit(train_data, validation_data=val_data, epochs=number_of_epochs)"
   ]
  },
  {
   "cell_type": "markdown",
   "id": "b458112c",
   "metadata": {},
   "source": [
    "1.1. Implement the CNN shown in the assignment specification and train it on the provided dataset. Plot the training accuracy and validation accuracy over epochs."
   ]
  },
  {
   "cell_type": "code",
   "execution_count": 2,
   "id": "16dc8c91",
   "metadata": {},
   "outputs": [
    {
     "name": "stdout",
     "output_type": "stream",
     "text": [
      "2.6.0\n"
     ]
    }
   ],
   "source": []
  },
  {
   "cell_type": "markdown",
   "id": "922d401b",
   "metadata": {},
   "source": [
    "1.2. Modify the CNN (see assignment spec for details) and train it on the provided dataset.  Plot the training accuracy and validation accuracy over epochs."
   ]
  },
  {
   "cell_type": "code",
   "execution_count": null,
   "id": "5bc947fa",
   "metadata": {},
   "outputs": [],
   "source": []
  },
  {
   "cell_type": "markdown",
   "id": "be49d952",
   "metadata": {},
   "source": [
    "### 2. Error anaylsis\n",
    "Evaluate your CNN model from question 1.2 on the test dataset. See assignment spec for details."
   ]
  },
  {
   "cell_type": "code",
   "execution_count": null,
   "id": "4ec409fb",
   "metadata": {},
   "outputs": [],
   "source": []
  },
  {
   "cell_type": "markdown",
   "id": "28b7f997",
   "metadata": {},
   "source": [
    "### 3. Visualisation\n",
    "Visualise the feature space that your model uses to classify images. See assignment spec for details."
   ]
  },
  {
   "cell_type": "code",
   "execution_count": null,
   "id": "3734ce3e",
   "metadata": {},
   "outputs": [],
   "source": []
  }
 ],
 "metadata": {
  "kernelspec": {
   "display_name": "Python 3 (ipykernel)",
   "language": "python",
   "name": "python3"
  },
  "language_info": {
   "codemirror_mode": {
    "name": "ipython",
    "version": 3
   },
   "file_extension": ".py",
   "mimetype": "text/x-python",
   "name": "python",
   "nbconvert_exporter": "python",
   "pygments_lexer": "ipython3",
   "version": "3.9.12"
  }
 },
 "nbformat": 4,
 "nbformat_minor": 5
}
